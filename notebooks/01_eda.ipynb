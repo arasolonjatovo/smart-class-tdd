{
 "cells": [
  {
   "cell_type": "markdown",
   "id": "49ba1509",
   "metadata": {},
   "source": [
    "# EDA"
   ]
  },
  {
   "cell_type": "code",
   "execution_count": 25,
   "id": "7c381a26",
   "metadata": {},
   "outputs": [],
   "source": [
    "import pandas as pd\n",
    "import matplotlib.pyplot as plt\n",
    "import seaborn as sns\n",
    "import os\n",
    "\n",
    "os.makedirs(\"../reports/figures\", exist_ok=True)\n",
    "\n",
    "plt.style.use(\"seaborn-v0_8\")\n",
    "sns.set_palette(\"viridis\")\n",
    "\n",
    "SOURCE = \"../datas/raw/capteur_C013.csv\"\n"
   ]
  },
  {
   "cell_type": "code",
   "execution_count": 26,
   "id": "49789164",
   "metadata": {},
   "outputs": [
    {
     "ename": "FileNotFoundError",
     "evalue": "[Errno 2] No such file or directory: '../datas/raw/capteur_C013.csv'",
     "output_type": "error",
     "traceback": [
      "\u001b[31m---------------------------------------------------------------------------\u001b[39m",
      "\u001b[31mFileNotFoundError\u001b[39m                         Traceback (most recent call last)",
      "\u001b[36mCell\u001b[39m\u001b[36m \u001b[39m\u001b[32mIn[26]\u001b[39m\u001b[32m, line 1\u001b[39m\n\u001b[32m----> \u001b[39m\u001b[32m1\u001b[39m df = \u001b[43mpd\u001b[49m\u001b[43m.\u001b[49m\u001b[43mread_csv\u001b[49m\u001b[43m(\u001b[49m\u001b[43mSOURCE\u001b[49m\u001b[43m)\u001b[49m\n\u001b[32m      2\u001b[39m df.head()\n",
      "\u001b[36mFile \u001b[39m\u001b[32m/opt/homebrew/lib/python3.11/site-packages/pandas/io/parsers/readers.py:1026\u001b[39m, in \u001b[36mread_csv\u001b[39m\u001b[34m(filepath_or_buffer, sep, delimiter, header, names, index_col, usecols, dtype, engine, converters, true_values, false_values, skipinitialspace, skiprows, skipfooter, nrows, na_values, keep_default_na, na_filter, verbose, skip_blank_lines, parse_dates, infer_datetime_format, keep_date_col, date_parser, date_format, dayfirst, cache_dates, iterator, chunksize, compression, thousands, decimal, lineterminator, quotechar, quoting, doublequote, escapechar, comment, encoding, encoding_errors, dialect, on_bad_lines, delim_whitespace, low_memory, memory_map, float_precision, storage_options, dtype_backend)\u001b[39m\n\u001b[32m   1013\u001b[39m kwds_defaults = _refine_defaults_read(\n\u001b[32m   1014\u001b[39m     dialect,\n\u001b[32m   1015\u001b[39m     delimiter,\n\u001b[32m   (...)\u001b[39m\u001b[32m   1022\u001b[39m     dtype_backend=dtype_backend,\n\u001b[32m   1023\u001b[39m )\n\u001b[32m   1024\u001b[39m kwds.update(kwds_defaults)\n\u001b[32m-> \u001b[39m\u001b[32m1026\u001b[39m \u001b[38;5;28;01mreturn\u001b[39;00m \u001b[43m_read\u001b[49m\u001b[43m(\u001b[49m\u001b[43mfilepath_or_buffer\u001b[49m\u001b[43m,\u001b[49m\u001b[43m \u001b[49m\u001b[43mkwds\u001b[49m\u001b[43m)\u001b[49m\n",
      "\u001b[36mFile \u001b[39m\u001b[32m/opt/homebrew/lib/python3.11/site-packages/pandas/io/parsers/readers.py:620\u001b[39m, in \u001b[36m_read\u001b[39m\u001b[34m(filepath_or_buffer, kwds)\u001b[39m\n\u001b[32m    617\u001b[39m _validate_names(kwds.get(\u001b[33m\"\u001b[39m\u001b[33mnames\u001b[39m\u001b[33m\"\u001b[39m, \u001b[38;5;28;01mNone\u001b[39;00m))\n\u001b[32m    619\u001b[39m \u001b[38;5;66;03m# Create the parser.\u001b[39;00m\n\u001b[32m--> \u001b[39m\u001b[32m620\u001b[39m parser = \u001b[43mTextFileReader\u001b[49m\u001b[43m(\u001b[49m\u001b[43mfilepath_or_buffer\u001b[49m\u001b[43m,\u001b[49m\u001b[43m \u001b[49m\u001b[43m*\u001b[49m\u001b[43m*\u001b[49m\u001b[43mkwds\u001b[49m\u001b[43m)\u001b[49m\n\u001b[32m    622\u001b[39m \u001b[38;5;28;01mif\u001b[39;00m chunksize \u001b[38;5;129;01mor\u001b[39;00m iterator:\n\u001b[32m    623\u001b[39m     \u001b[38;5;28;01mreturn\u001b[39;00m parser\n",
      "\u001b[36mFile \u001b[39m\u001b[32m/opt/homebrew/lib/python3.11/site-packages/pandas/io/parsers/readers.py:1620\u001b[39m, in \u001b[36mTextFileReader.__init__\u001b[39m\u001b[34m(self, f, engine, **kwds)\u001b[39m\n\u001b[32m   1617\u001b[39m     \u001b[38;5;28mself\u001b[39m.options[\u001b[33m\"\u001b[39m\u001b[33mhas_index_names\u001b[39m\u001b[33m\"\u001b[39m] = kwds[\u001b[33m\"\u001b[39m\u001b[33mhas_index_names\u001b[39m\u001b[33m\"\u001b[39m]\n\u001b[32m   1619\u001b[39m \u001b[38;5;28mself\u001b[39m.handles: IOHandles | \u001b[38;5;28;01mNone\u001b[39;00m = \u001b[38;5;28;01mNone\u001b[39;00m\n\u001b[32m-> \u001b[39m\u001b[32m1620\u001b[39m \u001b[38;5;28mself\u001b[39m._engine = \u001b[38;5;28;43mself\u001b[39;49m\u001b[43m.\u001b[49m\u001b[43m_make_engine\u001b[49m\u001b[43m(\u001b[49m\u001b[43mf\u001b[49m\u001b[43m,\u001b[49m\u001b[43m \u001b[49m\u001b[38;5;28;43mself\u001b[39;49m\u001b[43m.\u001b[49m\u001b[43mengine\u001b[49m\u001b[43m)\u001b[49m\n",
      "\u001b[36mFile \u001b[39m\u001b[32m/opt/homebrew/lib/python3.11/site-packages/pandas/io/parsers/readers.py:1880\u001b[39m, in \u001b[36mTextFileReader._make_engine\u001b[39m\u001b[34m(self, f, engine)\u001b[39m\n\u001b[32m   1878\u001b[39m     \u001b[38;5;28;01mif\u001b[39;00m \u001b[33m\"\u001b[39m\u001b[33mb\u001b[39m\u001b[33m\"\u001b[39m \u001b[38;5;129;01mnot\u001b[39;00m \u001b[38;5;129;01min\u001b[39;00m mode:\n\u001b[32m   1879\u001b[39m         mode += \u001b[33m\"\u001b[39m\u001b[33mb\u001b[39m\u001b[33m\"\u001b[39m\n\u001b[32m-> \u001b[39m\u001b[32m1880\u001b[39m \u001b[38;5;28mself\u001b[39m.handles = \u001b[43mget_handle\u001b[49m\u001b[43m(\u001b[49m\n\u001b[32m   1881\u001b[39m \u001b[43m    \u001b[49m\u001b[43mf\u001b[49m\u001b[43m,\u001b[49m\n\u001b[32m   1882\u001b[39m \u001b[43m    \u001b[49m\u001b[43mmode\u001b[49m\u001b[43m,\u001b[49m\n\u001b[32m   1883\u001b[39m \u001b[43m    \u001b[49m\u001b[43mencoding\u001b[49m\u001b[43m=\u001b[49m\u001b[38;5;28;43mself\u001b[39;49m\u001b[43m.\u001b[49m\u001b[43moptions\u001b[49m\u001b[43m.\u001b[49m\u001b[43mget\u001b[49m\u001b[43m(\u001b[49m\u001b[33;43m\"\u001b[39;49m\u001b[33;43mencoding\u001b[39;49m\u001b[33;43m\"\u001b[39;49m\u001b[43m,\u001b[49m\u001b[43m \u001b[49m\u001b[38;5;28;43;01mNone\u001b[39;49;00m\u001b[43m)\u001b[49m\u001b[43m,\u001b[49m\n\u001b[32m   1884\u001b[39m \u001b[43m    \u001b[49m\u001b[43mcompression\u001b[49m\u001b[43m=\u001b[49m\u001b[38;5;28;43mself\u001b[39;49m\u001b[43m.\u001b[49m\u001b[43moptions\u001b[49m\u001b[43m.\u001b[49m\u001b[43mget\u001b[49m\u001b[43m(\u001b[49m\u001b[33;43m\"\u001b[39;49m\u001b[33;43mcompression\u001b[39;49m\u001b[33;43m\"\u001b[39;49m\u001b[43m,\u001b[49m\u001b[43m \u001b[49m\u001b[38;5;28;43;01mNone\u001b[39;49;00m\u001b[43m)\u001b[49m\u001b[43m,\u001b[49m\n\u001b[32m   1885\u001b[39m \u001b[43m    \u001b[49m\u001b[43mmemory_map\u001b[49m\u001b[43m=\u001b[49m\u001b[38;5;28;43mself\u001b[39;49m\u001b[43m.\u001b[49m\u001b[43moptions\u001b[49m\u001b[43m.\u001b[49m\u001b[43mget\u001b[49m\u001b[43m(\u001b[49m\u001b[33;43m\"\u001b[39;49m\u001b[33;43mmemory_map\u001b[39;49m\u001b[33;43m\"\u001b[39;49m\u001b[43m,\u001b[49m\u001b[43m \u001b[49m\u001b[38;5;28;43;01mFalse\u001b[39;49;00m\u001b[43m)\u001b[49m\u001b[43m,\u001b[49m\n\u001b[32m   1886\u001b[39m \u001b[43m    \u001b[49m\u001b[43mis_text\u001b[49m\u001b[43m=\u001b[49m\u001b[43mis_text\u001b[49m\u001b[43m,\u001b[49m\n\u001b[32m   1887\u001b[39m \u001b[43m    \u001b[49m\u001b[43merrors\u001b[49m\u001b[43m=\u001b[49m\u001b[38;5;28;43mself\u001b[39;49m\u001b[43m.\u001b[49m\u001b[43moptions\u001b[49m\u001b[43m.\u001b[49m\u001b[43mget\u001b[49m\u001b[43m(\u001b[49m\u001b[33;43m\"\u001b[39;49m\u001b[33;43mencoding_errors\u001b[39;49m\u001b[33;43m\"\u001b[39;49m\u001b[43m,\u001b[49m\u001b[43m \u001b[49m\u001b[33;43m\"\u001b[39;49m\u001b[33;43mstrict\u001b[39;49m\u001b[33;43m\"\u001b[39;49m\u001b[43m)\u001b[49m\u001b[43m,\u001b[49m\n\u001b[32m   1888\u001b[39m \u001b[43m    \u001b[49m\u001b[43mstorage_options\u001b[49m\u001b[43m=\u001b[49m\u001b[38;5;28;43mself\u001b[39;49m\u001b[43m.\u001b[49m\u001b[43moptions\u001b[49m\u001b[43m.\u001b[49m\u001b[43mget\u001b[49m\u001b[43m(\u001b[49m\u001b[33;43m\"\u001b[39;49m\u001b[33;43mstorage_options\u001b[39;49m\u001b[33;43m\"\u001b[39;49m\u001b[43m,\u001b[49m\u001b[43m \u001b[49m\u001b[38;5;28;43;01mNone\u001b[39;49;00m\u001b[43m)\u001b[49m\u001b[43m,\u001b[49m\n\u001b[32m   1889\u001b[39m \u001b[43m\u001b[49m\u001b[43m)\u001b[49m\n\u001b[32m   1890\u001b[39m \u001b[38;5;28;01massert\u001b[39;00m \u001b[38;5;28mself\u001b[39m.handles \u001b[38;5;129;01mis\u001b[39;00m \u001b[38;5;129;01mnot\u001b[39;00m \u001b[38;5;28;01mNone\u001b[39;00m\n\u001b[32m   1891\u001b[39m f = \u001b[38;5;28mself\u001b[39m.handles.handle\n",
      "\u001b[36mFile \u001b[39m\u001b[32m/opt/homebrew/lib/python3.11/site-packages/pandas/io/common.py:873\u001b[39m, in \u001b[36mget_handle\u001b[39m\u001b[34m(path_or_buf, mode, encoding, compression, memory_map, is_text, errors, storage_options)\u001b[39m\n\u001b[32m    868\u001b[39m \u001b[38;5;28;01melif\u001b[39;00m \u001b[38;5;28misinstance\u001b[39m(handle, \u001b[38;5;28mstr\u001b[39m):\n\u001b[32m    869\u001b[39m     \u001b[38;5;66;03m# Check whether the filename is to be opened in binary mode.\u001b[39;00m\n\u001b[32m    870\u001b[39m     \u001b[38;5;66;03m# Binary mode does not support 'encoding' and 'newline'.\u001b[39;00m\n\u001b[32m    871\u001b[39m     \u001b[38;5;28;01mif\u001b[39;00m ioargs.encoding \u001b[38;5;129;01mand\u001b[39;00m \u001b[33m\"\u001b[39m\u001b[33mb\u001b[39m\u001b[33m\"\u001b[39m \u001b[38;5;129;01mnot\u001b[39;00m \u001b[38;5;129;01min\u001b[39;00m ioargs.mode:\n\u001b[32m    872\u001b[39m         \u001b[38;5;66;03m# Encoding\u001b[39;00m\n\u001b[32m--> \u001b[39m\u001b[32m873\u001b[39m         handle = \u001b[38;5;28;43mopen\u001b[39;49m\u001b[43m(\u001b[49m\n\u001b[32m    874\u001b[39m \u001b[43m            \u001b[49m\u001b[43mhandle\u001b[49m\u001b[43m,\u001b[49m\n\u001b[32m    875\u001b[39m \u001b[43m            \u001b[49m\u001b[43mioargs\u001b[49m\u001b[43m.\u001b[49m\u001b[43mmode\u001b[49m\u001b[43m,\u001b[49m\n\u001b[32m    876\u001b[39m \u001b[43m            \u001b[49m\u001b[43mencoding\u001b[49m\u001b[43m=\u001b[49m\u001b[43mioargs\u001b[49m\u001b[43m.\u001b[49m\u001b[43mencoding\u001b[49m\u001b[43m,\u001b[49m\n\u001b[32m    877\u001b[39m \u001b[43m            \u001b[49m\u001b[43merrors\u001b[49m\u001b[43m=\u001b[49m\u001b[43merrors\u001b[49m\u001b[43m,\u001b[49m\n\u001b[32m    878\u001b[39m \u001b[43m            \u001b[49m\u001b[43mnewline\u001b[49m\u001b[43m=\u001b[49m\u001b[33;43m\"\u001b[39;49m\u001b[33;43m\"\u001b[39;49m\u001b[43m,\u001b[49m\n\u001b[32m    879\u001b[39m \u001b[43m        \u001b[49m\u001b[43m)\u001b[49m\n\u001b[32m    880\u001b[39m     \u001b[38;5;28;01melse\u001b[39;00m:\n\u001b[32m    881\u001b[39m         \u001b[38;5;66;03m# Binary mode\u001b[39;00m\n\u001b[32m    882\u001b[39m         handle = \u001b[38;5;28mopen\u001b[39m(handle, ioargs.mode)\n",
      "\u001b[31mFileNotFoundError\u001b[39m: [Errno 2] No such file or directory: '../datas/raw/capteur_C013.csv'"
     ]
    }
   ],
   "source": [
    "df = pd.read_csv(SOURCE)\n",
    "df.head()"
   ]
  },
  {
   "cell_type": "code",
   "execution_count": null,
   "id": "f646486c",
   "metadata": {},
   "outputs": [],
   "source": [
    "df.describe()"
   ]
  },
  {
   "cell_type": "code",
   "execution_count": null,
   "id": "247e05b8",
   "metadata": {},
   "outputs": [],
   "source": [
    "df.info()"
   ]
  },
  {
   "cell_type": "code",
   "execution_count": null,
   "id": "1b16342d",
   "metadata": {},
   "outputs": [],
   "source": [
    "df.isnull().sum()"
   ]
  },
  {
   "cell_type": "code",
   "execution_count": null,
   "id": "629adc06",
   "metadata": {},
   "outputs": [],
   "source": [
    "print(\"Nombre de doublons :\", df.duplicated().sum())"
   ]
  },
  {
   "cell_type": "code",
   "execution_count": null,
   "id": "46c0c914",
   "metadata": {},
   "outputs": [],
   "source": [
    "print(\n",
    "    \"Température intérieure min/max :\", df[\"temperature\"].min(), df[\"temperature\"].max()\n",
    ")\n",
    "print(\n",
    "    \"Température extérieure min/max :\",\n",
    "    df[\"temperature_ext\"].min(),\n",
    "    df[\"temperature_ext\"].max(),\n",
    ")\n",
    "print(\"Humidité min/max :\", df[\"humidite\"].min(), df[\"humidite\"].max())\n",
    "print(\"Pression min/max :\", df[\"pression\"].min(), df[\"pression\"].max())\n",
    "print(\n",
    "    \"Occupation min/max :\",\n",
    "    df[\"nb_eleves_presents\"].min(),\n",
    "    df[\"nb_eleves_presents\"].max(),\n",
    ")\n"
   ]
  },
  {
   "cell_type": "code",
   "execution_count": null,
   "id": "f3d45b93",
   "metadata": {},
   "outputs": [],
   "source": [
    "import matplotlib.pyplot as plt\n",
    "import seaborn as sns\n",
    "\n",
    "fig, axes = plt.subplots(2, 3, figsize=(16, 10))\n",
    "\n",
    "sns.histplot(df[\"temperature\"], bins=20, kde=True, ax=axes[0, 0])\n",
    "axes[0, 0].set_title(\"Distribution Température intérieure\")\n",
    "\n",
    "sns.histplot(df[\"temperature_ext\"], bins=20, kde=True, ax=axes[0, 1], color=\"orange\")\n",
    "axes[0, 1].set_title(\"Distribution Température extérieure\")\n",
    "\n",
    "sns.histplot(df[\"humidite\"], bins=20, kde=True, ax=axes[0, 2], color=\"green\")\n",
    "axes[0, 2].set_title(\"Distribution Humidité\")\n",
    "\n",
    "sns.histplot(df[\"pression\"], bins=20, kde=True, ax=axes[1, 0], color=\"purple\")\n",
    "axes[1, 0].set_title(\"Distribution Pression\")\n",
    "\n",
    "sns.histplot(df[\"nb_eleves_presents\"], bins=30, ax=axes[1, 1], color=\"red\")\n",
    "axes[1, 1].set_title(\"Distribution Nb élèves présents\")\n",
    "\n",
    "axes[1, 2].axis(\"off\")\n",
    "\n",
    "plt.tight_layout()\n",
    "plt.savefig(\"../reports/figures/distributions_univariees.png\")\n",
    "plt.show()"
   ]
  },
  {
   "cell_type": "code",
   "execution_count": null,
   "id": "0372af3c",
   "metadata": {},
   "outputs": [],
   "source": [
    "fig, axes = plt.subplots(5, 1, figsize=(16, 14), sharex=True)\n",
    "\n",
    "df.plot(\n",
    "    x=\"timestamp\",\n",
    "    y=\"temperature\",\n",
    "    ax=axes[0],\n",
    "    title=\"Température intérieure (°C)\",\n",
    "    color=\"red\",\n",
    ")\n",
    "df.plot(\n",
    "    x=\"timestamp\",\n",
    "    y=\"temperature_ext\",\n",
    "    ax=axes[1],\n",
    "    title=\"Température extérieure (°C)\",\n",
    "    color=\"orange\",\n",
    ")\n",
    "df.plot(x=\"timestamp\", y=\"humidite\", ax=axes[2], title=\"Humidité (%)\", color=\"green\")\n",
    "df.plot(x=\"timestamp\", y=\"pression\", ax=axes[3], title=\"Pression (hPa)\", color=\"purple\")\n",
    "df.plot(\n",
    "    x=\"timestamp\",\n",
    "    y=\"nb_eleves_presents\",\n",
    "    ax=axes[4],\n",
    "    title=\"Nombre d'élèves présents\",\n",
    "    color=\"blue\",\n",
    ")\n",
    "\n",
    "plt.tight_layout()\n",
    "plt.savefig(\"../reports/figures/series_temporelles_completes.png\")\n",
    "plt.show()\n"
   ]
  },
  {
   "cell_type": "code",
   "execution_count": null,
   "id": "6ec9f923",
   "metadata": {},
   "outputs": [],
   "source": [
    "df[\"timestamp\"] = pd.to_datetime(df[\"timestamp\"])\n",
    "df[\"jour\"] = df[\"timestamp\"].dt.date\n",
    "df[\"heure\"] = df[\"timestamp\"].dt.hour"
   ]
  },
  {
   "cell_type": "code",
   "execution_count": null,
   "id": "20aa817b",
   "metadata": {},
   "outputs": [],
   "source": [
    "moyennes_horaires = df.groupby(\"heure\")[\n",
    "    [\"temperature\", \"temperature_ext\", \"humidite\", \"nb_eleves_presents\"]\n",
    "].mean()\n",
    "\n",
    "fig, axes = plt.subplots(2, 2, figsize=(14, 10))\n",
    "\n",
    "moyennes_horaires[\"temperature\"].plot(\n",
    "    ax=axes[0, 0], title=\"Cycle journalier - Température intérieure\", color=\"red\"\n",
    ")\n",
    "moyennes_horaires[\"temperature_ext\"].plot(\n",
    "    ax=axes[0, 1], title=\"Cycle journalier - Température extérieure\", color=\"orange\"\n",
    ")\n",
    "moyennes_horaires[\"humidite\"].plot(\n",
    "    ax=axes[1, 0], title=\"Cycle journalier - Humidité\", color=\"green\"\n",
    ")\n",
    "moyennes_horaires[\"nb_eleves_presents\"].plot(\n",
    "    ax=axes[1, 1], title=\"Cycle journalier - Nombre d'élèves\", color=\"blue\"\n",
    ")\n",
    "\n",
    "plt.tight_layout()\n",
    "plt.savefig(\"../reports/figures/cycles_journaliers.png\")\n",
    "plt.show()\n"
   ]
  },
  {
   "cell_type": "code",
   "execution_count": null,
   "id": "9ca029a5",
   "metadata": {},
   "outputs": [],
   "source": [
    "colonnes_numeriques = [\n",
    "    \"temperature\",\n",
    "    \"temperature_ext\",\n",
    "    \"humidite\",\n",
    "    \"pression\",\n",
    "    \"nb_eleves_presents\",\n",
    "]\n",
    "\n",
    "correlation = df[colonnes_numeriques].corr()\n",
    "\n",
    "plt.figure(figsize=(8, 6))\n",
    "sns.heatmap(correlation, annot=True, cmap=\"coolwarm\", fmt=\".2f\", cbar=True)\n",
    "plt.title(\"Matrice de corrélation entre variables\")\n",
    "plt.tight_layout()\n",
    "plt.savefig(\"../reports/figures/matrice_correlation.png\")\n",
    "plt.show()\n"
   ]
  },
  {
   "cell_type": "code",
   "execution_count": null,
   "id": "f1734720",
   "metadata": {},
   "outputs": [],
   "source": [
    "fig, axes = plt.subplots(1, 2, figsize=(14, 6))\n",
    "\n",
    "sns.scatterplot(\n",
    "    x=\"temperature_ext\",\n",
    "    y=\"temperature\",\n",
    "    hue=\"nb_eleves_presents\",\n",
    "    size=\"nb_eleves_presents\",\n",
    "    data=df,\n",
    "    ax=axes[0],\n",
    "    palette=\"viridis\",\n",
    "    alpha=0.7,\n",
    ")\n",
    "axes[0].set_title(\"Température intérieure vs Température extérieure\")\n",
    "\n",
    "sns.scatterplot(\n",
    "    x=\"temperature\",\n",
    "    y=\"humidite\",\n",
    "    hue=\"nb_eleves_presents\",\n",
    "    data=df,\n",
    "    ax=axes[1],\n",
    "    palette=\"coolwarm\",\n",
    "    alpha=0.7,\n",
    ")\n",
    "axes[1].set_title(\"Humidité vs Température intérieure\")\n",
    "\n",
    "plt.tight_layout()\n",
    "plt.savefig(\"../reports/figures/scatterplots_relation.png\")\n",
    "plt.show()\n"
   ]
  },
  {
   "cell_type": "code",
   "execution_count": null,
   "id": "7e221402",
   "metadata": {},
   "outputs": [],
   "source": [
    "anomalies_occupation = df[df[\"nb_eleves_presents\"] > df[\"capacite_salle\"]]\n",
    "\n",
    "print(f\"Nombre de cas où la capacité est dépassée : {anomalies_occupation.shape[0]}\")\n",
    "if not anomalies_occupation.empty:\n",
    "    display(anomalies_occupation.head())"
   ]
  },
  {
   "cell_type": "code",
   "execution_count": null,
   "id": "80723518",
   "metadata": {},
   "outputs": [],
   "source": [
    "anomalies_temp = df[(df[\"temperature\"] < 15) | (df[\"temperature\"] > 35)]\n",
    "\n",
    "anomalies_hum = df[(df[\"humidite\"] < 20) | (df[\"humidite\"] > 100)]\n",
    "\n",
    "anomalies_press = df[(df[\"pression\"] < 980) | (df[\"pression\"] > 1050)]\n",
    "\n",
    "print(\"Anomalies température :\", anomalies_temp.shape[0])\n",
    "print(\"Anomalies humidité :\", anomalies_hum.shape[0])\n",
    "print(\"Anomalies pression :\", anomalies_press.shape[0])\n"
   ]
  },
  {
   "cell_type": "code",
   "execution_count": null,
   "id": "384e3371",
   "metadata": {},
   "outputs": [],
   "source": [
    "fig, axes = plt.subplots(1, 3, figsize=(18, 6))\n",
    "\n",
    "sns.boxplot(y=\"temperature\", data=df, ax=axes[0], color=\"red\")\n",
    "axes[0].set_title(\"Température intérieure\")\n",
    "\n",
    "sns.boxplot(y=\"humidite\", data=df, ax=axes[1], color=\"green\")\n",
    "axes[1].set_title(\"Humidité\")\n",
    "\n",
    "sns.boxplot(y=\"pression\", data=df, ax=axes[2], color=\"purple\")\n",
    "axes[2].set_title(\"Pression\")\n",
    "\n",
    "plt.tight_layout()\n",
    "plt.savefig(\"../reports/figures/valeurs_extremes.png\")\n",
    "plt.show()\n"
   ]
  },
  {
   "cell_type": "markdown",
   "id": "2d23f328",
   "metadata": {},
   "source": [
    "## Synthèse\n",
    "\n",
    "### 1. Qualité des données\n",
    "\n",
    "- Pas de valeurs manquantes détectées.\n",
    "- Pas de doublons.\n",
    "\n",
    "### 2. Occupation\n",
    "\n",
    "- La salle est occupée uniquement entre 7h30 et 19h30.\n",
    "- Le nombre d’élèves ne dépasse pas la capacité (30).\n",
    "- Cycle typique : pic en matinée et après-midi, baisse autour de 12h (pause déjeuner).\n",
    "- Faible ou aucune occupation le week-end.\n",
    "\n",
    "### 3. Température\n",
    "\n",
    "- Corrélée à la température extérieure et au nombre d’élèves présents.\n",
    "\n",
    "### 4. Humidité\n",
    "\n",
    "- Tendance inverse à la température (plus il fait chaud, plus l’air est sec).\n",
    "- Augmente légèrement avec l’occupation (respiration des élèves ?).\n",
    "\n",
    "### 5. Pression\n",
    "\n",
    "- Fluctuations faibles.\n",
    "- Pas de lien direct avec occupation.\n",
    "\n",
    "### 6. Relations entre variables\n",
    "\n",
    "- temperature_ext ↔ temperature : corrélation forte.\n",
    "- nb_eleves_presents ↔ temperature : corrélation modérée.\n",
    "- temperature ↔ humidite : corrélation négative nette.\n",
    "\n",
    "\n",
    "### Conclusion\n",
    "\n",
    "On observe clairement l’effet de l’occupation et de la météo exterieur sur la température de la salle"
   ]
  },
  {
   "cell_type": "code",
   "execution_count": null,
   "id": "8e43f11b",
   "metadata": {},
   "outputs": [],
   "source": []
  }
 ],
 "metadata": {
  "kernelspec": {
   "display_name": ".venv",
   "language": "python",
   "name": "python3"
  },
  "language_info": {
   "codemirror_mode": {
    "name": "ipython",
    "version": 3
   },
   "file_extension": ".py",
   "mimetype": "text/x-python",
   "name": "python",
   "nbconvert_exporter": "python",
   "pygments_lexer": "ipython3",
   "version": "3.11.9"
  }
 },
 "nbformat": 4,
 "nbformat_minor": 5
}
